{
 "cells": [
  {
   "cell_type": "code",
   "execution_count": 1,
   "metadata": {},
   "outputs": [],
   "source": [
    "import pandas as pd\n",
    "import numpy as np\n",
    "import sqlite3\n",
    "pd.set_option('display.max_columns', None)"
   ]
  },
  {
   "cell_type": "code",
   "execution_count": 2,
   "metadata": {},
   "outputs": [],
   "source": [
    "raw = pd.read_csv('data/Iowa_Liquor_Sales.csv',\n",
    "                       dtype={'Zip Code': object, 'Item Number': object}, \n",
    "                       parse_dates=['Date'])"
   ]
  },
  {
   "cell_type": "markdown",
   "metadata": {},
   "source": [
    "### Store Data Frame"
   ]
  },
  {
   "cell_type": "code",
   "execution_count": 4,
   "metadata": {},
   "outputs": [],
   "source": [
    "# Store df\n",
    "store = raw.loc[:,['Store Number', 'Store Name', 'Address', 'City', 'Zip Code', 'Store Location', 'County Number', 'County']]\n",
    "# lower case name\n",
    "store.loc[:,'Store Name'] = store['Store Name'].str.lower()\n",
    "store.loc[:,'Address'] = store['Address'].str.lower()\n",
    "store.loc[:,'City'] = store['City'].str.lower()\n",
    "store.loc[:,'County'] = store['County'].str.lower()"
   ]
  },
  {
   "cell_type": "code",
   "execution_count": 5,
   "metadata": {},
   "outputs": [],
   "source": [
    "# replace null with string so the NaN is not contagious\n",
    "store.replace(np.nan, 'missing', inplace = True)"
   ]
  },
  {
   "cell_type": "markdown",
   "metadata": {},
   "source": [
    "##### Deal with varying store names"
   ]
  },
  {
   "cell_type": "code",
   "execution_count": 8,
   "metadata": {},
   "outputs": [],
   "source": [
    "# Groupby store number and value count to get number of times store name matches to store number\n",
    "store_name = store.groupby(['Store Number']).agg({'Store Name': \n",
    "                                                  'value_counts'}).rename(columns = {'Store Name': \n",
    "                                                                                     'Name Count'}).reset_index()"
   ]
  },
  {
   "cell_type": "code",
   "execution_count": 9,
   "metadata": {},
   "outputs": [],
   "source": [
    "# rank the store names within each store number\n",
    "store_name['Rank'] = store_name.groupby('Store Number')['Name Count'].rank(ascending = False)"
   ]
  },
  {
   "cell_type": "code",
   "execution_count": 10,
   "metadata": {},
   "outputs": [],
   "source": [
    "# pick most frequent name\n",
    "store_name_unique = store_name.loc[store_name.Rank == 1].drop(['Name Count', \n",
    "                                                               'Rank'], axis=1)\n",
    "\n",
    "# drop columns from store\n",
    "store = store.drop(['Store Name'], axis=1)\n",
    "\n",
    "# join the ranked data to store df\n",
    "store = pd.merge(store, store_name_unique, how='left', \n",
    "                 on='Store Number')"
   ]
  },
  {
   "cell_type": "markdown",
   "metadata": {},
   "source": [
    "#### Deal with varying locations for each store number"
   ]
  },
  {
   "cell_type": "code",
   "execution_count": 13,
   "metadata": {},
   "outputs": [],
   "source": [
    "# Business could have moved over the years\n",
    "store_loc = store.groupby(['Store Number', \n",
    "                           'County', 'County Number', 'City', \n",
    "                           'Zip Code', 'Store Location']).agg({'Address': \n",
    "                                                               'value_counts'}).rename(columns = {'Address': \n",
    "                                                                                     'Address Count'}).reset_index()"
   ]
  },
  {
   "cell_type": "code",
   "execution_count": 15,
   "metadata": {},
   "outputs": [],
   "source": [
    "# rank all location info within each store number\n",
    "store_loc['Rank'] = store_loc.groupby('Store Number')['Address Count'].rank(ascending = False)"
   ]
  },
  {
   "cell_type": "code",
   "execution_count": 17,
   "metadata": {},
   "outputs": [],
   "source": [
    "# pick most frequent name\n",
    "store_loc_unique = store_loc.loc[store_loc.Rank == 1].drop(['Address Count', \n",
    "                                                            'Rank'], axis=1)\n",
    "\n",
    "# drop columns from store\n",
    "store = store.drop(['Address','City', 'Zip Code', 'Store Location', \n",
    "                    'County Number', 'County'], axis=1)\n",
    "\n",
    "# join the ranked data to store df\n",
    "store = pd.merge(store, store_loc_unique, how='left', \n",
    "                 on='Store Number')"
   ]
  },
  {
   "cell_type": "code",
   "execution_count": 19,
   "metadata": {},
   "outputs": [],
   "source": [
    "# Drop duplicates\n",
    "store = store.drop_duplicates()"
   ]
  },
  {
   "cell_type": "markdown",
   "metadata": {},
   "source": [
    "## Adding Store Types"
   ]
  },
  {
   "cell_type": "code",
   "execution_count": 20,
   "metadata": {},
   "outputs": [],
   "source": [
    "# Add column of zeros\n",
    "store['Store Type'] = np.zeros(store.shape[0])"
   ]
  },
  {
   "cell_type": "markdown",
   "metadata": {},
   "source": [
    "#### Categorize stores with string contains \n",
    "- order matters here"
   ]
  },
  {
   "cell_type": "code",
   "execution_count": 21,
   "metadata": {},
   "outputs": [
    {
     "name": "stderr",
     "output_type": "stream",
     "text": [
      "/opt/anaconda3/lib/python3.7/site-packages/pandas/core/indexing.py:670: SettingWithCopyWarning: \n",
      "A value is trying to be set on a copy of a slice from a DataFrame\n",
      "\n",
      "See the caveats in the documentation: https://pandas.pydata.org/pandas-docs/stable/user_guide/indexing.html#returning-a-view-versus-a-copy\n",
      "  self._setitem_with_indexer(indexer, value)\n"
     ]
    }
   ],
   "source": [
    "store['Store Type'].loc[store['Store Name'].str.contains(\n",
    "    \"food|market|super valu|saver|groc\")] = 'Other Grocery or Convenience'\n",
    "\n",
    "store['Store Type'].loc[store['Store Name'].str.contains(\n",
    "    \"econ-o-mart|mart|quik|pit stop|quick|kwik|general store|convenience|gas|circle k|petro|stop|casey's|country store|yesway|kum|7-eleven|station|express|fill r up|fuel|new star| go |the boonedocks\")] = 'Convenience Store'\n",
    "\n",
    "store['Store Type'].loc[store['Store Name'].str.contains(\n",
    "    \"hy-vee|wal-mart|fareway store|super mar|big g|sac city food pride|sam's club|supermarket|shop n save|grocery|target|dahl's|costco|whole foods|jeff's|hometown|mepo\")] = 'Supermarket'\n",
    "\n",
    "store['Store Type'].loc[store['Store Name'].str.contains(\n",
    "    \"liquor|spirits|tobacco|beverage|smoke|bottle|distil|wine|bootleg|northside one stop|beer|cigar|distrib|booze|brew|snuff|sauce\")] = 'Liquor Tobacco Store'\n",
    "\n",
    "store['Store Type'].loc[store['Store Name'].str.contains(\n",
    "    \"walgreens|cvs|drug\")] = 'Drug Store'\n",
    "\n",
    "store['Store Type'].loc[store['Store Name'].str.contains(\n",
    "    \"casino\")] = 'Casino'\n",
    "\n",
    "store['Store Type'].loc[store['Store Type']==0] = 'Other'"
   ]
  },
  {
   "cell_type": "markdown",
   "metadata": {},
   "source": [
    "### Liquor Price Data Frame"
   ]
  },
  {
   "cell_type": "code",
   "execution_count": 22,
   "metadata": {},
   "outputs": [],
   "source": [
    "price = raw[['Item Number', 'Date', 'State Bottle Retail', 'State Bottle Cost']]"
   ]
  },
  {
   "cell_type": "code",
   "execution_count": 23,
   "metadata": {},
   "outputs": [],
   "source": [
    "price = price.groupby(['Item Number', 'Date']).agg({'State Bottle Retail':\n",
    "                                            'mean','State Bottle Cost':'mean' }).reset_index()"
   ]
  },
  {
   "cell_type": "code",
   "execution_count": 30,
   "metadata": {},
   "outputs": [],
   "source": [
    "price = price.drop_duplicates"
   ]
  },
  {
   "cell_type": "code",
   "execution_count": 37,
   "metadata": {},
   "outputs": [
    {
     "data": {
      "text/html": [
       "<div>\n",
       "<style scoped>\n",
       "    .dataframe tbody tr th:only-of-type {\n",
       "        vertical-align: middle;\n",
       "    }\n",
       "\n",
       "    .dataframe tbody tr th {\n",
       "        vertical-align: top;\n",
       "    }\n",
       "\n",
       "    .dataframe thead th {\n",
       "        text-align: right;\n",
       "    }\n",
       "</style>\n",
       "<table border=\"1\" class=\"dataframe\">\n",
       "  <thead>\n",
       "    <tr style=\"text-align: right;\">\n",
       "      <th></th>\n",
       "      <th>Item Number</th>\n",
       "      <th>Date</th>\n",
       "      <th>State Bottle Retail</th>\n",
       "      <th>State Bottle Cost</th>\n",
       "    </tr>\n",
       "  </thead>\n",
       "  <tbody>\n",
       "    <tr>\n",
       "      <th>0</th>\n",
       "      <td>100001</td>\n",
       "      <td>2016-10-03</td>\n",
       "      <td>12.0</td>\n",
       "      <td>8.0</td>\n",
       "    </tr>\n",
       "    <tr>\n",
       "      <th>1</th>\n",
       "      <td>100001</td>\n",
       "      <td>2016-10-04</td>\n",
       "      <td>12.0</td>\n",
       "      <td>8.0</td>\n",
       "    </tr>\n",
       "    <tr>\n",
       "      <th>2</th>\n",
       "      <td>100001</td>\n",
       "      <td>2016-10-05</td>\n",
       "      <td>12.0</td>\n",
       "      <td>8.0</td>\n",
       "    </tr>\n",
       "    <tr>\n",
       "      <th>3</th>\n",
       "      <td>100001</td>\n",
       "      <td>2016-10-06</td>\n",
       "      <td>12.0</td>\n",
       "      <td>8.0</td>\n",
       "    </tr>\n",
       "    <tr>\n",
       "      <th>4</th>\n",
       "      <td>100001</td>\n",
       "      <td>2016-10-07</td>\n",
       "      <td>12.0</td>\n",
       "      <td>8.0</td>\n",
       "    </tr>\n",
       "  </tbody>\n",
       "</table>\n",
       "</div>"
      ],
      "text/plain": [
       "  Item Number       Date  State Bottle Retail  State Bottle Cost\n",
       "0      100001 2016-10-03                 12.0                8.0\n",
       "1      100001 2016-10-04                 12.0                8.0\n",
       "2      100001 2016-10-05                 12.0                8.0\n",
       "3      100001 2016-10-06                 12.0                8.0\n",
       "4      100001 2016-10-07                 12.0                8.0"
      ]
     },
     "execution_count": 37,
     "metadata": {},
     "output_type": "execute_result"
    }
   ],
   "source": [
    "price.head()"
   ]
  },
  {
   "cell_type": "markdown",
   "metadata": {},
   "source": [
    "### SQLite"
   ]
  },
  {
   "cell_type": "code",
   "execution_count": 38,
   "metadata": {},
   "outputs": [
    {
     "data": {
      "text/plain": [
       "Item Number                    object\n",
       "Date                   datetime64[ns]\n",
       "State Bottle Retail           float64\n",
       "State Bottle Cost             float64\n",
       "dtype: object"
      ]
     },
     "execution_count": 38,
     "metadata": {},
     "output_type": "execute_result"
    }
   ],
   "source": [
    "price.dtypes"
   ]
  },
  {
   "cell_type": "markdown",
   "metadata": {},
   "source": [
    "# Xiaogang, this is the table that needs two keys, and I am not sure how to do this."
   ]
  },
  {
   "cell_type": "code",
   "execution_count": 61,
   "metadata": {},
   "outputs": [],
   "source": [
    "# connect to sqlite\n",
    "conn = sqlite3.connect('liquor.db')\n",
    "# make a cursor\n",
    "cursor = conn.cursor()\n",
    "# make tables\n",
    "sql_query = '''CREATE TABLE product_price(\n",
    "                   'Item Number' varchar(50),\n",
    "                   'Date' date,\n",
    "                   'State Bottle Retail' float64,\n",
    "                   'State Bottle Cost' float64,\n",
    "                   PRIMARY KEY('Item Number', 'Date'));'''\n",
    "# sql_query = 'DROP TABLE product_price;'\n",
    "cursor.execute(sql_query)\n",
    "\n",
    "cursor.close()\n",
    "conn.close()"
   ]
  },
  {
   "cell_type": "markdown",
   "metadata": {},
   "source": [
    "#### Add contents to product_place table"
   ]
  },
  {
   "cell_type": "code",
   "execution_count": 62,
   "metadata": {},
   "outputs": [],
   "source": [
    "# connect to sqlite\n",
    "conn = sqlite3.connect('liquor.db')\n",
    "# make a cursor\n",
    "cursor = conn.cursor()\n",
    "# insert data\n",
    "price.to_sql('product_price',conn,if_exists='append',index=False)\n",
    "#cursor.executemany(\"INSERT INTO vendors (Vendor_number,Vendor_name) values (?,?)\",Vendors_final)\n",
    "#conn.commit()\n",
    "\n",
    "cursor.close()\n",
    "conn.close()"
   ]
  },
  {
   "cell_type": "markdown",
   "metadata": {},
   "source": [
    "### Stores table in Sqlite"
   ]
  },
  {
   "cell_type": "code",
   "execution_count": 48,
   "metadata": {},
   "outputs": [
    {
     "data": {
      "text/plain": [
       "Store Number       int64\n",
       "Store Name        object\n",
       "County            object\n",
       "County Number     object\n",
       "City              object\n",
       "Zip Code          object\n",
       "Store Location    object\n",
       "Address           object\n",
       "Store Type        object\n",
       "dtype: object"
      ]
     },
     "execution_count": 48,
     "metadata": {},
     "output_type": "execute_result"
    }
   ],
   "source": [
    "store.dtypes"
   ]
  },
  {
   "cell_type": "code",
   "execution_count": 56,
   "metadata": {},
   "outputs": [],
   "source": [
    "# connect to sqlite\n",
    "conn = sqlite3.connect('liquor.db')\n",
    "# make a cursor\n",
    "cursor = conn.cursor()\n",
    "# make tables\n",
    "sql_query = '''CREATE TABLE stores(\n",
    "                   'Store Number' INTEGER PRIMARY KEY,\n",
    "                   'Store Name' varchar(250),\n",
    "                   'County' varchar(250),\n",
    "                   'County Number' varchar(250),\n",
    "                   'City' varchar(250),\n",
    "                   'Zip Code' varchar(250),\n",
    "                   'Store Location' varchar(250),\n",
    "                   'Address' varchar(250),\n",
    "                   'Store Type' varchar(250));'''\n",
    "# sql_query = 'DROP TABLE stores;'\n",
    "cursor.execute(sql_query)\n",
    "\n",
    "\n",
    "cursor.close()\n",
    "conn.close()"
   ]
  },
  {
   "cell_type": "code",
   "execution_count": 57,
   "metadata": {},
   "outputs": [],
   "source": [
    "# connect to sqlite\n",
    "conn = sqlite3.connect('liquor.db')\n",
    "# make a cursor\n",
    "cursor = conn.cursor()\n",
    "# insert data\n",
    "store.to_sql('stores',conn,if_exists='append',index=False)\n",
    "#cursor.executemany(\"INSERT INTO vendors (Vendor_number,Vendor_name) values (?,?)\",Vendors_final)\n",
    "#conn.commit()\n",
    "\n",
    "cursor.close()\n",
    "conn.close()"
   ]
  },
  {
   "cell_type": "code",
   "execution_count": null,
   "metadata": {},
   "outputs": [],
   "source": []
  },
  {
   "cell_type": "code",
   "execution_count": null,
   "metadata": {},
   "outputs": [],
   "source": []
  }
 ],
 "metadata": {
  "kernelspec": {
   "display_name": "Python 3",
   "language": "python",
   "name": "python3"
  },
  "language_info": {
   "codemirror_mode": {
    "name": "ipython",
    "version": 3
   },
   "file_extension": ".py",
   "mimetype": "text/x-python",
   "name": "python",
   "nbconvert_exporter": "python",
   "pygments_lexer": "ipython3",
   "version": "3.7.6"
  }
 },
 "nbformat": 4,
 "nbformat_minor": 4
}
